{
 "cells": [
  {
   "cell_type": "markdown",
   "metadata": {
    "_uuid": "027a53392672d0bb79b0f553e6897c6df6124551"
   },
   "source": [
    "# Data Analysis & Regularized Linear Regression "
   ]
  },
  {
   "cell_type": "markdown",
   "metadata": {
    "_uuid": "5853177eafbec10ae676f24e2225fe9b09767b36"
   },
   "source": [
    "#### In this kernel, I summed up everything I've learnt to understand this competetion and solve the problem. You will learn from this kernel how to visualize, clean and prepare the data to train you machine leanrnig model, and even select the best model for the problem with the help of the learning curves."
   ]
  },
  {
   "cell_type": "markdown",
   "metadata": {
    "_uuid": "0373a3dba9548bb0a20298fbccbd5432e16b39c0"
   },
   "source": [
    "#### Well, what then? we need to predict the house prices and all what we have is the data! So, let's look at it to familiarize ourselves and know what is needed to be done to prepare the data for the machine learning part. \n",
    "\n",
    "**Get motivated and believe me after this kernel you will have superpowers!... along with some fun! **"
   ]
  },
  {
   "cell_type": "markdown",
   "metadata": {
    "_cell_guid": "b1076dfc-b9ad-4769-8c92-a6c4dae69d19",
    "_uuid": "8f2839f25d086af736a60e9eeb907d3b93b6e0e5",
    "collapsed": true
   },
   "source": [
    "Let's import first some libraries."
   ]
  },
  {
   "cell_type": "code",
   "execution_count": 1,
   "metadata": {
    "_cell_guid": "79c7e3d0-c299-4dcb-8224-4455121ee9b0",
    "_uuid": "d629ff2d2480ee46fbb7e2d37f6b5fab8052498a",
    "collapsed": true
   },
   "outputs": [],
   "source": [
    "import pandas as pd\n",
    "import numpy as np\n",
    "import matplotlib.pyplot as plt\n",
    "import seaborn as sns\n",
    "from scipy import stats\n",
    "from scipy.stats import norm\n",
    "\n",
    "import warnings\n",
    "def ignore_warn(*args, **kwargs):\n",
    "    pass\n",
    "warnings.warn = ignore_warn #ignore annoying warning (from sklearn and seaborn)\n",
    "from scipy.stats import skew"
   ]
  },
  {
   "cell_type": "markdown",
   "metadata": {
    "_uuid": "25a5d365996c9648cc0ae6f2c281cc9be5d118a0"
   },
   "source": [
    "And load the data which is splitted into two files, one for** trianing** and another for **testing**."
   ]
  },
  {
   "cell_type": "code",
   "execution_count": 2,
   "metadata": {
    "_uuid": "e9f9a2f11b21af416a89daf0f089ce398f6fb073"
   },
   "outputs": [],
   "source": [
    "X_train = pd.read_csv('train.csv')\n",
    "X_test = pd.read_csv('test.csv')"
   ]
  },
  {
   "cell_type": "markdown",
   "metadata": {
    "_uuid": "21dc1acf4d0ac2c161bc06563fc1941f4a41de4e",
    "collapsed": true
   },
   "source": [
    "Nice, we have the data. Let's have a quick look at it."
   ]
  },
  {
   "cell_type": "code",
   "execution_count": 3,
   "metadata": {
    "_uuid": "0c5549fdb141f5623b05c050f7ccef5b0b3dd582"
   },
   "outputs": [
    {
     "data": {
      "text/html": [
       "<div>\n",
       "<style>\n",
       "    .dataframe thead tr:only-child th {\n",
       "        text-align: right;\n",
       "    }\n",
       "\n",
       "    .dataframe thead th {\n",
       "        text-align: left;\n",
       "    }\n",
       "\n",
       "    .dataframe tbody tr th {\n",
       "        vertical-align: top;\n",
       "    }\n",
       "</style>\n",
       "<table border=\"1\" class=\"dataframe\">\n",
       "  <thead>\n",
       "    <tr style=\"text-align: right;\">\n",
       "      <th></th>\n",
       "      <th>Id</th>\n",
       "      <th>MSSubClass</th>\n",
       "      <th>MSZoning</th>\n",
       "      <th>LotFrontage</th>\n",
       "      <th>LotArea</th>\n",
       "      <th>Street</th>\n",
       "      <th>Alley</th>\n",
       "      <th>LotShape</th>\n",
       "      <th>LandContour</th>\n",
       "      <th>Utilities</th>\n",
       "      <th>...</th>\n",
       "      <th>PoolArea</th>\n",
       "      <th>PoolQC</th>\n",
       "      <th>Fence</th>\n",
       "      <th>MiscFeature</th>\n",
       "      <th>MiscVal</th>\n",
       "      <th>MoSold</th>\n",
       "      <th>YrSold</th>\n",
       "      <th>SaleType</th>\n",
       "      <th>SaleCondition</th>\n",
       "      <th>SalePrice</th>\n",
       "    </tr>\n",
       "  </thead>\n",
       "  <tbody>\n",
       "    <tr>\n",
       "      <th>0</th>\n",
       "      <td>1</td>\n",
       "      <td>60</td>\n",
       "      <td>RL</td>\n",
       "      <td>65.0</td>\n",
       "      <td>8450</td>\n",
       "      <td>Pave</td>\n",
       "      <td>NaN</td>\n",
       "      <td>Reg</td>\n",
       "      <td>Lvl</td>\n",
       "      <td>AllPub</td>\n",
       "      <td>...</td>\n",
       "      <td>0</td>\n",
       "      <td>NaN</td>\n",
       "      <td>NaN</td>\n",
       "      <td>NaN</td>\n",
       "      <td>0</td>\n",
       "      <td>2</td>\n",
       "      <td>2008</td>\n",
       "      <td>WD</td>\n",
       "      <td>Normal</td>\n",
       "      <td>208500</td>\n",
       "    </tr>\n",
       "    <tr>\n",
       "      <th>1</th>\n",
       "      <td>2</td>\n",
       "      <td>20</td>\n",
       "      <td>RL</td>\n",
       "      <td>80.0</td>\n",
       "      <td>9600</td>\n",
       "      <td>Pave</td>\n",
       "      <td>NaN</td>\n",
       "      <td>Reg</td>\n",
       "      <td>Lvl</td>\n",
       "      <td>AllPub</td>\n",
       "      <td>...</td>\n",
       "      <td>0</td>\n",
       "      <td>NaN</td>\n",
       "      <td>NaN</td>\n",
       "      <td>NaN</td>\n",
       "      <td>0</td>\n",
       "      <td>5</td>\n",
       "      <td>2007</td>\n",
       "      <td>WD</td>\n",
       "      <td>Normal</td>\n",
       "      <td>181500</td>\n",
       "    </tr>\n",
       "    <tr>\n",
       "      <th>2</th>\n",
       "      <td>3</td>\n",
       "      <td>60</td>\n",
       "      <td>RL</td>\n",
       "      <td>68.0</td>\n",
       "      <td>11250</td>\n",
       "      <td>Pave</td>\n",
       "      <td>NaN</td>\n",
       "      <td>IR1</td>\n",
       "      <td>Lvl</td>\n",
       "      <td>AllPub</td>\n",
       "      <td>...</td>\n",
       "      <td>0</td>\n",
       "      <td>NaN</td>\n",
       "      <td>NaN</td>\n",
       "      <td>NaN</td>\n",
       "      <td>0</td>\n",
       "      <td>9</td>\n",
       "      <td>2008</td>\n",
       "      <td>WD</td>\n",
       "      <td>Normal</td>\n",
       "      <td>223500</td>\n",
       "    </tr>\n",
       "    <tr>\n",
       "      <th>3</th>\n",
       "      <td>4</td>\n",
       "      <td>70</td>\n",
       "      <td>RL</td>\n",
       "      <td>60.0</td>\n",
       "      <td>9550</td>\n",
       "      <td>Pave</td>\n",
       "      <td>NaN</td>\n",
       "      <td>IR1</td>\n",
       "      <td>Lvl</td>\n",
       "      <td>AllPub</td>\n",
       "      <td>...</td>\n",
       "      <td>0</td>\n",
       "      <td>NaN</td>\n",
       "      <td>NaN</td>\n",
       "      <td>NaN</td>\n",
       "      <td>0</td>\n",
       "      <td>2</td>\n",
       "      <td>2006</td>\n",
       "      <td>WD</td>\n",
       "      <td>Abnorml</td>\n",
       "      <td>140000</td>\n",
       "    </tr>\n",
       "    <tr>\n",
       "      <th>4</th>\n",
       "      <td>5</td>\n",
       "      <td>60</td>\n",
       "      <td>RL</td>\n",
       "      <td>84.0</td>\n",
       "      <td>14260</td>\n",
       "      <td>Pave</td>\n",
       "      <td>NaN</td>\n",
       "      <td>IR1</td>\n",
       "      <td>Lvl</td>\n",
       "      <td>AllPub</td>\n",
       "      <td>...</td>\n",
       "      <td>0</td>\n",
       "      <td>NaN</td>\n",
       "      <td>NaN</td>\n",
       "      <td>NaN</td>\n",
       "      <td>0</td>\n",
       "      <td>12</td>\n",
       "      <td>2008</td>\n",
       "      <td>WD</td>\n",
       "      <td>Normal</td>\n",
       "      <td>250000</td>\n",
       "    </tr>\n",
       "  </tbody>\n",
       "</table>\n",
       "<p>5 rows × 81 columns</p>\n",
       "</div>"
      ],
      "text/plain": [
       "   Id  MSSubClass MSZoning  LotFrontage  LotArea Street Alley LotShape  \\\n",
       "0   1          60       RL         65.0     8450   Pave   NaN      Reg   \n",
       "1   2          20       RL         80.0     9600   Pave   NaN      Reg   \n",
       "2   3          60       RL         68.0    11250   Pave   NaN      IR1   \n",
       "3   4          70       RL         60.0     9550   Pave   NaN      IR1   \n",
       "4   5          60       RL         84.0    14260   Pave   NaN      IR1   \n",
       "\n",
       "  LandContour Utilities    ...     PoolArea PoolQC Fence MiscFeature MiscVal  \\\n",
       "0         Lvl    AllPub    ...            0    NaN   NaN         NaN       0   \n",
       "1         Lvl    AllPub    ...            0    NaN   NaN         NaN       0   \n",
       "2         Lvl    AllPub    ...            0    NaN   NaN         NaN       0   \n",
       "3         Lvl    AllPub    ...            0    NaN   NaN         NaN       0   \n",
       "4         Lvl    AllPub    ...            0    NaN   NaN         NaN       0   \n",
       "\n",
       "  MoSold YrSold  SaleType  SaleCondition  SalePrice  \n",
       "0      2   2008        WD         Normal     208500  \n",
       "1      5   2007        WD         Normal     181500  \n",
       "2      9   2008        WD         Normal     223500  \n",
       "3      2   2006        WD        Abnorml     140000  \n",
       "4     12   2008        WD         Normal     250000  \n",
       "\n",
       "[5 rows x 81 columns]"
      ]
     },
     "execution_count": 3,
     "metadata": {},
     "output_type": "execute_result"
    }
   ],
   "source": [
    "X_train.head()"
   ]
  },
  {
   "cell_type": "markdown",
   "metadata": {
    "_uuid": "eac637cea2731dc38185333bdeb075aeb985ca6c"
   },
   "source": [
    "So, we now know a little bit about our data(contains **categorical features**), and need to go deep! Let's get more info about our features(columns)."
   ]
  },
  {
   "cell_type": "code",
   "execution_count": 4,
   "metadata": {
    "_uuid": "311c3b05692f9c880d69b4ab18693886953fd7ae"
   },
   "outputs": [
    {
     "name": "stdout",
     "output_type": "stream",
     "text": [
      "<class 'pandas.core.frame.DataFrame'>\n",
      "RangeIndex: 1460 entries, 0 to 1459\n",
      "Data columns (total 81 columns):\n",
      "Id               1460 non-null int64\n",
      "MSSubClass       1460 non-null int64\n",
      "MSZoning         1460 non-null object\n",
      "LotFrontage      1201 non-null float64\n",
      "LotArea          1460 non-null int64\n",
      "Street           1460 non-null object\n",
      "Alley            91 non-null object\n",
      "LotShape         1460 non-null object\n",
      "LandContour      1460 non-null object\n",
      "Utilities        1460 non-null object\n",
      "LotConfig        1460 non-null object\n",
      "LandSlope        1460 non-null object\n",
      "Neighborhood     1460 non-null object\n",
      "Condition1       1460 non-null object\n",
      "Condition2       1460 non-null object\n",
      "BldgType         1460 non-null object\n",
      "HouseStyle       1460 non-null object\n",
      "OverallQual      1460 non-null int64\n",
      "OverallCond      1460 non-null int64\n",
      "YearBuilt        1460 non-null int64\n",
      "YearRemodAdd     1460 non-null int64\n",
      "RoofStyle        1460 non-null object\n",
      "RoofMatl         1460 non-null object\n",
      "Exterior1st      1460 non-null object\n",
      "Exterior2nd      1460 non-null object\n",
      "MasVnrType       1452 non-null object\n",
      "MasVnrArea       1452 non-null float64\n",
      "ExterQual        1460 non-null object\n",
      "ExterCond        1460 non-null object\n",
      "Foundation       1460 non-null object\n",
      "BsmtQual         1423 non-null object\n",
      "BsmtCond         1423 non-null object\n",
      "BsmtExposure     1422 non-null object\n",
      "BsmtFinType1     1423 non-null object\n",
      "BsmtFinSF1       1460 non-null int64\n",
      "BsmtFinType2     1422 non-null object\n",
      "BsmtFinSF2       1460 non-null int64\n",
      "BsmtUnfSF        1460 non-null int64\n",
      "TotalBsmtSF      1460 non-null int64\n",
      "Heating          1460 non-null object\n",
      "HeatingQC        1460 non-null object\n",
      "CentralAir       1460 non-null object\n",
      "Electrical       1459 non-null object\n",
      "1stFlrSF         1460 non-null int64\n",
      "2ndFlrSF         1460 non-null int64\n",
      "LowQualFinSF     1460 non-null int64\n",
      "GrLivArea        1460 non-null int64\n",
      "BsmtFullBath     1460 non-null int64\n",
      "BsmtHalfBath     1460 non-null int64\n",
      "FullBath         1460 non-null int64\n",
      "HalfBath         1460 non-null int64\n",
      "BedroomAbvGr     1460 non-null int64\n",
      "KitchenAbvGr     1460 non-null int64\n",
      "KitchenQual      1460 non-null object\n",
      "TotRmsAbvGrd     1460 non-null int64\n",
      "Functional       1460 non-null object\n",
      "Fireplaces       1460 non-null int64\n",
      "FireplaceQu      770 non-null object\n",
      "GarageType       1379 non-null object\n",
      "GarageYrBlt      1379 non-null float64\n",
      "GarageFinish     1379 non-null object\n",
      "GarageCars       1460 non-null int64\n",
      "GarageArea       1460 non-null int64\n",
      "GarageQual       1379 non-null object\n",
      "GarageCond       1379 non-null object\n",
      "PavedDrive       1460 non-null object\n",
      "WoodDeckSF       1460 non-null int64\n",
      "OpenPorchSF      1460 non-null int64\n",
      "EnclosedPorch    1460 non-null int64\n",
      "3SsnPorch        1460 non-null int64\n",
      "ScreenPorch      1460 non-null int64\n",
      "PoolArea         1460 non-null int64\n",
      "PoolQC           7 non-null object\n",
      "Fence            281 non-null object\n",
      "MiscFeature      54 non-null object\n",
      "MiscVal          1460 non-null int64\n",
      "MoSold           1460 non-null int64\n",
      "YrSold           1460 non-null int64\n",
      "SaleType         1460 non-null object\n",
      "SaleCondition    1460 non-null object\n",
      "SalePrice        1460 non-null int64\n",
      "dtypes: float64(3), int64(35), object(43)\n",
      "memory usage: 924.0+ KB\n"
     ]
    }
   ],
   "source": [
    "X_train.info()"
   ]
  },
  {
   "cell_type": "markdown",
   "metadata": {
    "_uuid": "6ca15a527c248717e14fc8b485d6f64e0685da73"
   },
   "source": [
    "We have 81 features(columns) of types object(43), int(35), and float(3), and with a closer look you will notice that some of them have missing values(the non- null values aren't 1460). So, along with the **categorical columns**, we will need to handle the **missing values**.\n",
    "\n",
    "Let's see how our target variable, **SalePrice**,  is correlated with some other varibles in our data."
   ]
  },
  {
   "cell_type": "code",
   "execution_count": 5,
   "metadata": {
    "_uuid": "f13c520ec78d5e58d750f4738bd60c8c1f95e28a",
    "scrolled": true
   },
   "outputs": [
    {
     "data": {
      "text/plain": [
       "SalePrice        1.000000\n",
       "OverallQual      0.790982\n",
       "GrLivArea        0.708624\n",
       "GarageCars       0.640409\n",
       "GarageArea       0.623431\n",
       "TotalBsmtSF      0.613581\n",
       "1stFlrSF         0.605852\n",
       "FullBath         0.560664\n",
       "TotRmsAbvGrd     0.533723\n",
       "YearBuilt        0.522897\n",
       "YearRemodAdd     0.507101\n",
       "GarageYrBlt      0.486362\n",
       "MasVnrArea       0.477493\n",
       "Fireplaces       0.466929\n",
       "BsmtFinSF1       0.386420\n",
       "LotFrontage      0.351799\n",
       "WoodDeckSF       0.324413\n",
       "2ndFlrSF         0.319334\n",
       "OpenPorchSF      0.315856\n",
       "HalfBath         0.284108\n",
       "LotArea          0.263843\n",
       "BsmtFullBath     0.227122\n",
       "BsmtUnfSF        0.214479\n",
       "BedroomAbvGr     0.168213\n",
       "ScreenPorch      0.111447\n",
       "PoolArea         0.092404\n",
       "MoSold           0.046432\n",
       "3SsnPorch        0.044584\n",
       "BsmtFinSF2      -0.011378\n",
       "BsmtHalfBath    -0.016844\n",
       "MiscVal         -0.021190\n",
       "Id              -0.021917\n",
       "LowQualFinSF    -0.025606\n",
       "YrSold          -0.028923\n",
       "OverallCond     -0.077856\n",
       "MSSubClass      -0.084284\n",
       "EnclosedPorch   -0.128578\n",
       "KitchenAbvGr    -0.135907\n",
       "Name: SalePrice, dtype: float64"
      ]
     },
     "execution_count": 5,
     "metadata": {},
     "output_type": "execute_result"
    }
   ],
   "source": [
    "#the correlation matrix\n",
    "corr_mat = X_train.corr()\n",
    "corr_mat['SalePrice'].sort_values(ascending=False)\n"
   ]
  },
  {
   "cell_type": "markdown",
   "metadata": {
    "_uuid": "dba125ac4f57fd2dfa9362c30f7669f1b0723a53"
   },
   "source": [
    "Awesome! let's pick the some of the **highly correlated** columns with our **SalePrice** column,  then have a scatter party, where we drink **outliers**! \n"
   ]
  },
  {
   "cell_type": "code",
   "execution_count": 6,
   "metadata": {
    "_uuid": "a4d6ca2f1f4b495d692308d0ba1c4d04ce11e41d",
    "scrolled": true
   },
   "outputs": [
    {
     "data": {
      "image/png": "[encoded data removed]",
      "text/plain": [
       "<matplotlib.figure.Figure at 0x2c02ce23160>"
      ]
     },
     "metadata": {},
     "output_type": "display_data"
    }
   ],
   "source": [
    "#get the variables that have a good correlation(>.7) with the target\n",
    "values = list(corr_mat['SalePrice'].values)\n",
    "keys = list(corr_mat['SalePrice'].keys())\n",
    "variables = [i for i in keys if values[keys.index(i)] > .7]\n",
    "\n",
    "#ploting scatters \n",
    "sns.set()\n",
    "sns.pairplot(X_train[variables],size=3)\n",
    "plt.show()"
   ]
  },
  {
   "cell_type": "markdown",
   "metadata": {
    "_uuid": "09e1820c135502fc7ee1c37799f2b33a692d3e33"
   },
   "source": [
    "Lots of figurs? Not really LOL. \n",
    "\n",
    "Don't get lost. Look at the** 3rd row, the plot in the middle** represents the scatter** between 'SalePrice', \n",
    "and 'GrLivArea'.** Noticed something? the two points** between 4000 and 6000 on the x-axis**? these two points probably think they are diffrent\n",
    "or even smarter from their mates, but they had a bad end. They were sold with a** low price** althoug they claim they are** big areas(houses)**!  \n",
    "So, we can't have such arrogant points in our data! They do not even go with the flow like the other two points in the top right of the graph. We will delete them! why? because **outliers** cause problems when applying **statistical tests**('regression; in this problem), and they are probably errors."
   ]
  },
  {
   "cell_type": "code",
   "execution_count": 7,
   "metadata": {
    "_uuid": "a44d182c6df651c5365fffa434e8886ac4708762",
    "collapsed": true
   },
   "outputs": [],
   "source": [
    "X_train.drop(X_train[(X_train['GrLivArea']>4000) & (X_train['SalePrice']<300000)].index, inplace=True)"
   ]
  },
  {
   "cell_type": "markdown",
   "metadata": {
    "_uuid": "3c3c04213b2f9ad2310606da4dcc24c88567c7f6"
   },
   "source": [
    "Well, that's not everything you get from these scatters. Look at the **skewed** data( 3rd row, top right). Wait! Lets Look at it closely."
   ]
  },
  {
   "cell_type": "code",
   "execution_count": 8,
   "metadata": {
    "_uuid": "79bfba515835f770c73b224080c1f799842231b8"
   },
   "outputs": [
    {
     "data": {
      "image/png": "[encoded data removed]",
      "text/plain": [
       "<matplotlib.figure.Figure at 0x2c0294ebfd0>"
      ]
     },
     "metadata": {},
     "output_type": "display_data"
    },
    {
     "data": {
      "image/png": "[encoded data removed]",
      "text/plain": [
       "<matplotlib.figure.Figure at 0x2c0294eb9e8>"
      ]
     },
     "metadata": {},
     "output_type": "display_data"
    }
   ],
   "source": [
    "sns.distplot(X_train['SalePrice'], fit=norm);\n",
    "fig = plt.figure()\n",
    "res = stats.probplot(X_train['SalePrice'], plot=plt)\n",
    "plt.show()"
   ]
  },
  {
   "cell_type": "markdown",
   "metadata": {
    "_uuid": "c70888dd44ca015d8feb611f34d2f420c2140e34"
   },
   "source": [
    "The **skewed data **has no justice! it either gives more money(points) to the people of the East or the West! it gives one, \n",
    "and abuse another. Such injustice! We will force it to spread its points equally using some sort of powers(**Log Transformation**).\n",
    "\n",
    "Hmm, you think we're nice, right? No, Not really. We did this for our problem's sake(**regression**) Since This can be valuable both \n",
    "for making patterns in the data more interpretable, and for helping to** meet the assumptions** of some statistical test(Regression)."
   ]
  },
  {
   "cell_type": "markdown",
   "metadata": {
    "_uuid": "a18b87a158c060725150ff2954aaf8a4df7c5400"
   },
   "source": [
    "Yay! we're done!...knowing how to clean our data for a machine learning model!\n",
    "\n",
    "Here what we're gonna do:\n",
    " \n",
    "*  **Handling the missing data.**\n",
    "*  **Transforming the data with Log.**\n",
    "*  **Getting Dummy variables. **"
   ]
  },
  {
   "cell_type": "markdown",
   "metadata": {
    "_uuid": "7b098f89d02cf84d508b20b1fd6827c13f00f67a"
   },
   "source": [
    "Before we carry on, let's delete our target **SalePrice**, and the **Id** column and save them for later, and concatenate the training data and test data\n",
    "together for a bit."
   ]
  },
  {
   "cell_type": "code",
   "execution_count": 9,
   "metadata": {
    "_uuid": "a6d64799b9ff99efd32c03cb42d0137f23be7bca"
   },
   "outputs": [
    {
     "name": "stdout",
     "output_type": "stream",
     "text": [
      "Train index: 1458 \n",
      "Test index: 1459 \n",
      "Shape of our whole data(rows,columns): (2917, 79)\n"
     ]
    }
   ],
   "source": [
    "#saving the labels of our target variable \n",
    "y = X_train['SalePrice']\n",
    "\n",
    "#save the id column for later.\n",
    "test_id = X_test['Id']\n",
    "\n",
    "#dropping column that will not be needed when training our model.\n",
    "X_train.drop('SalePrice', 1, inplace=True)\n",
    "X_train.drop(\"Id\", axis = 1, inplace = True)\n",
    "X_test.drop(\"Id\", axis = 1, inplace = True)\n",
    "\n",
    "#save indexes before concatenating\n",
    "X_train_idx = X_train.shape[0]\n",
    "X_test_idx = X_test.shape[0]\n",
    "\n",
    "#concatenate the data\n",
    "data = pd.concat((X_train,X_test)).reset_index(drop=True)\n",
    "print('Train index: %s \\nTest index: %s \\nShape of our whole data(rows,columns): %s'%(X_train_idx, X_test_idx, data.shape))"
   ]
  },
  {
   "cell_type": "markdown",
   "metadata": {
    "_uuid": "40d2110ce11b4b212578cd3b3efa7c2225c2a14e",
    "collapsed": true
   },
   "source": [
    "Very good!\n",
    "\n",
    "Now we handle the **missing data**."
   ]
  },
  {
   "cell_type": "code",
   "execution_count": 10,
   "metadata": {
    "_uuid": "14989d1ad08b96d01de8bc8167792a1bdbbe1a78"
   },
   "outputs": [
    {
     "name": "stdout",
     "output_type": "stream",
     "text": [
      "PoolQC 2908 object\n",
      "MiscFeature 2812 object\n",
      "Alley 2719 object\n",
      "Fence 2346 object\n",
      "FireplaceQu 1420 object\n",
      "LotFrontage 486 float64\n",
      "GarageCond 159 object\n",
      "GarageQual 159 object\n",
      "GarageYrBlt 159 float64\n",
      "GarageFinish 159 object\n",
      "GarageType 157 object\n",
      "BsmtCond 82 object\n",
      "BsmtExposure 82 object\n",
      "BsmtQual 81 object\n",
      "BsmtFinType2 80 object\n",
      "BsmtFinType1 79 object\n",
      "MasVnrType 24 object\n",
      "MasVnrArea 23 float64\n",
      "MSZoning 4 object\n",
      "BsmtHalfBath 2 float64\n",
      "Utilities 2 object\n",
      "Functional 2 object\n",
      "BsmtFullBath 2 float64\n",
      "BsmtFinSF2 1 float64\n",
      "BsmtFinSF1 1 float64\n",
      "Exterior2nd 1 object\n",
      "BsmtUnfSF 1 float64\n",
      "TotalBsmtSF 1 float64\n",
      "Exterior1st 1 object\n",
      "SaleType 1 object\n",
      "Electrical 1 object\n",
      "KitchenQual 1 object\n",
      "GarageArea 1 float64\n",
      "GarageCars 1 float64\n"
     ]
    }
   ],
   "source": [
    "#print the sum of the missing values of a column from the highest to the lowest.\n",
    "numeric_cols = []\n",
    "non_numeric_cols = []\n",
    "for key,val in data.isnull().sum().sort_values(ascending=False).items():\n",
    "    if val > 0:\n",
    "        print(key, val, data[key].dtype)\n",
    "        if data[key].dtype != 'object':numeric_cols.append(key)\n",
    "        elif data[key].dtype == 'object':non_numeric_cols.append(key)\n",
    "        "
   ]
  },
  {
   "cell_type": "markdown",
   "metadata": {
    "_uuid": "272b4390f39c5184a160d2a26e0ec6aa544b3813"
   },
   "source": [
    "Well, it seems that some of the columns are **numeric** and others not so, let's look at the **non-numeric** first."
   ]
  },
  {
   "cell_type": "code",
   "execution_count": 11,
   "metadata": {
    "_uuid": "82c954f277fa1363dc2f552868a66b14a033f26d",
    "scrolled": true
   },
   "outputs": [
    {
     "data": {
      "text/html": [
       "<div>\n",
       "<style>\n",
       "    .dataframe thead tr:only-child th {\n",
       "        text-align: right;\n",
       "    }\n",
       "\n",
       "    .dataframe thead th {\n",
       "        text-align: left;\n",
       "    }\n",
       "\n",
       "    .dataframe tbody tr th {\n",
       "        vertical-align: top;\n",
       "    }\n",
       "</style>\n",
       "<table border=\"1\" class=\"dataframe\">\n",
       "  <thead>\n",
       "    <tr style=\"text-align: right;\">\n",
       "      <th></th>\n",
       "      <th>LotFrontage</th>\n",
       "      <th>GarageYrBlt</th>\n",
       "      <th>MasVnrArea</th>\n",
       "      <th>BsmtHalfBath</th>\n",
       "      <th>BsmtFullBath</th>\n",
       "      <th>BsmtFinSF2</th>\n",
       "      <th>BsmtFinSF1</th>\n",
       "      <th>BsmtUnfSF</th>\n",
       "      <th>TotalBsmtSF</th>\n",
       "      <th>GarageArea</th>\n",
       "      <th>GarageCars</th>\n",
       "    </tr>\n",
       "  </thead>\n",
       "  <tbody>\n",
       "    <tr>\n",
       "      <th>0</th>\n",
       "      <td>65.0</td>\n",
       "      <td>2003.0</td>\n",
       "      <td>196.0</td>\n",
       "      <td>0.0</td>\n",
       "      <td>1.0</td>\n",
       "      <td>0.0</td>\n",
       "      <td>706.0</td>\n",
       "      <td>150.0</td>\n",
       "      <td>856.0</td>\n",
       "      <td>548.0</td>\n",
       "      <td>2.0</td>\n",
       "    </tr>\n",
       "    <tr>\n",
       "      <th>1</th>\n",
       "      <td>80.0</td>\n",
       "      <td>1976.0</td>\n",
       "      <td>0.0</td>\n",
       "      <td>1.0</td>\n",
       "      <td>0.0</td>\n",
       "      <td>0.0</td>\n",
       "      <td>978.0</td>\n",
       "      <td>284.0</td>\n",
       "      <td>1262.0</td>\n",
       "      <td>460.0</td>\n",
       "      <td>2.0</td>\n",
       "    </tr>\n",
       "    <tr>\n",
       "      <th>2</th>\n",
       "      <td>68.0</td>\n",
       "      <td>2001.0</td>\n",
       "      <td>162.0</td>\n",
       "      <td>0.0</td>\n",
       "      <td>1.0</td>\n",
       "      <td>0.0</td>\n",
       "      <td>486.0</td>\n",
       "      <td>434.0</td>\n",
       "      <td>920.0</td>\n",
       "      <td>608.0</td>\n",
       "      <td>2.0</td>\n",
       "    </tr>\n",
       "    <tr>\n",
       "      <th>3</th>\n",
       "      <td>60.0</td>\n",
       "      <td>1998.0</td>\n",
       "      <td>0.0</td>\n",
       "      <td>0.0</td>\n",
       "      <td>1.0</td>\n",
       "      <td>0.0</td>\n",
       "      <td>216.0</td>\n",
       "      <td>540.0</td>\n",
       "      <td>756.0</td>\n",
       "      <td>642.0</td>\n",
       "      <td>3.0</td>\n",
       "    </tr>\n",
       "    <tr>\n",
       "      <th>4</th>\n",
       "      <td>84.0</td>\n",
       "      <td>2000.0</td>\n",
       "      <td>350.0</td>\n",
       "      <td>0.0</td>\n",
       "      <td>1.0</td>\n",
       "      <td>0.0</td>\n",
       "      <td>655.0</td>\n",
       "      <td>490.0</td>\n",
       "      <td>1145.0</td>\n",
       "      <td>836.0</td>\n",
       "      <td>3.0</td>\n",
       "    </tr>\n",
       "  </tbody>\n",
       "</table>\n",
       "</div>"
      ],
      "text/plain": [
       "   LotFrontage  GarageYrBlt  MasVnrArea  BsmtHalfBath  BsmtFullBath  \\\n",
       "0         65.0       2003.0       196.0           0.0           1.0   \n",
       "1         80.0       1976.0         0.0           1.0           0.0   \n",
       "2         68.0       2001.0       162.0           0.0           1.0   \n",
       "3         60.0       1998.0         0.0           0.0           1.0   \n",
       "4         84.0       2000.0       350.0           0.0           1.0   \n",
       "\n",
       "   BsmtFinSF2  BsmtFinSF1  BsmtUnfSF  TotalBsmtSF  GarageArea  GarageCars  \n",
       "0         0.0       706.0      150.0        856.0       548.0         2.0  \n",
       "1         0.0       978.0      284.0       1262.0       460.0         2.0  \n",
       "2         0.0       486.0      434.0        920.0       608.0         2.0  \n",
       "3         0.0       216.0      540.0        756.0       642.0         3.0  \n",
       "4         0.0       655.0      490.0       1145.0       836.0         3.0  "
      ]
     },
     "execution_count": 11,
     "metadata": {},
     "output_type": "execute_result"
    }
   ],
   "source": [
    "features = data.isnull().sum().sort_values(ascending=False).keys()\n",
    "missing_values = pd.DataFrame(data[numeric_cols])\n",
    "missing_values.head()"
   ]
  },
  {
   "cell_type": "markdown",
   "metadata": {
    "_uuid": "0771c5107a453bb763232866dec97b44c4d9a176",
    "collapsed": true
   },
   "source": [
    "We will fill the missing values for **BsmtHalfBath, BsmtFullBath, BsmtFinSF2, GarageCars** with zero because I can see that some of the \n",
    "instances have zero also which mean that instance(house) has no value for that feature(Bsmt)\n",
    "\n",
    "We fill the missing values for **GarageArea,TotalBsmtSF, MasVnrArea, GarageYrBlt, BsmtFinSF1, LotFrontage, BsmtUnfSF** with the median of each column since the missing\n",
    "value could've just been a close number to its friends."
   ]
  },
  {
   "cell_type": "code",
   "execution_count": 12,
   "metadata": {
    "_uuid": "8ea9758540b1779ce308dfefdd5827ded34f422f",
    "collapsed": true,
    "scrolled": true
   },
   "outputs": [],
   "source": [
    "fill_zero_cols = ['BsmtHalfBath', 'BsmtFullBath', 'BsmtFinSF2', 'GarageCars']\n",
    "fill_median_cols = ['GarageArea','TotalBsmtSF', 'MasVnrArea', 'BsmtFinSF1', 'LotFrontage', 'BsmtUnfSF', 'GarageYrBlt']\n",
    "[data[i].fillna(0,inplace=True) for i in fill_zero_cols]\n",
    "[data[j].fillna(data[j].median(),inplace=True) for j in fill_median_cols];"
   ]
  },
  {
   "cell_type": "markdown",
   "metadata": {
    "_uuid": "4a2a055984229195c75ed748f474747563be56b8"
   },
   "source": [
    "\n",
    "Time to fill in the **non-numeric **ones."
   ]
  },
  {
   "cell_type": "code",
   "execution_count": 13,
   "metadata": {
    "_uuid": "87b5721bd34c6c0205ba631b349dc4c426a34da7"
   },
   "outputs": [
    {
     "data": {
      "text/html": [
       "<div>\n",
       "<style>\n",
       "    .dataframe thead tr:only-child th {\n",
       "        text-align: right;\n",
       "    }\n",
       "\n",
       "    .dataframe thead th {\n",
       "        text-align: left;\n",
       "    }\n",
       "\n",
       "    .dataframe tbody tr th {\n",
       "        vertical-align: top;\n",
       "    }\n",
       "</style>\n",
       "<table border=\"1\" class=\"dataframe\">\n",
       "  <thead>\n",
       "    <tr style=\"text-align: right;\">\n",
       "      <th></th>\n",
       "      <th>PoolQC</th>\n",
       "      <th>MiscFeature</th>\n",
       "      <th>Alley</th>\n",
       "      <th>Fence</th>\n",
       "      <th>FireplaceQu</th>\n",
       "      <th>GarageCond</th>\n",
       "      <th>GarageQual</th>\n",
       "      <th>GarageFinish</th>\n",
       "      <th>GarageType</th>\n",
       "      <th>BsmtCond</th>\n",
       "      <th>...</th>\n",
       "      <th>BsmtFinType1</th>\n",
       "      <th>MasVnrType</th>\n",
       "      <th>MSZoning</th>\n",
       "      <th>Utilities</th>\n",
       "      <th>Functional</th>\n",
       "      <th>Exterior2nd</th>\n",
       "      <th>Exterior1st</th>\n",
       "      <th>SaleType</th>\n",
       "      <th>Electrical</th>\n",
       "      <th>KitchenQual</th>\n",
       "    </tr>\n",
       "  </thead>\n",
       "  <tbody>\n",
       "    <tr>\n",
       "      <th>0</th>\n",
       "      <td>NaN</td>\n",
       "      <td>NaN</td>\n",
       "      <td>NaN</td>\n",
       "      <td>NaN</td>\n",
       "      <td>NaN</td>\n",
       "      <td>TA</td>\n",
       "      <td>TA</td>\n",
       "      <td>RFn</td>\n",
       "      <td>Attchd</td>\n",
       "      <td>TA</td>\n",
       "      <td>...</td>\n",
       "      <td>GLQ</td>\n",
       "      <td>BrkFace</td>\n",
       "      <td>RL</td>\n",
       "      <td>AllPub</td>\n",
       "      <td>Typ</td>\n",
       "      <td>VinylSd</td>\n",
       "      <td>VinylSd</td>\n",
       "      <td>WD</td>\n",
       "      <td>SBrkr</td>\n",
       "      <td>Gd</td>\n",
       "    </tr>\n",
       "    <tr>\n",
       "      <th>1</th>\n",
       "      <td>NaN</td>\n",
       "      <td>NaN</td>\n",
       "      <td>NaN</td>\n",
       "      <td>NaN</td>\n",
       "      <td>TA</td>\n",
       "      <td>TA</td>\n",
       "      <td>TA</td>\n",
       "      <td>RFn</td>\n",
       "      <td>Attchd</td>\n",
       "      <td>TA</td>\n",
       "      <td>...</td>\n",
       "      <td>ALQ</td>\n",
       "      <td>None</td>\n",
       "      <td>RL</td>\n",
       "      <td>AllPub</td>\n",
       "      <td>Typ</td>\n",
       "      <td>MetalSd</td>\n",
       "      <td>MetalSd</td>\n",
       "      <td>WD</td>\n",
       "      <td>SBrkr</td>\n",
       "      <td>TA</td>\n",
       "    </tr>\n",
       "    <tr>\n",
       "      <th>2</th>\n",
       "      <td>NaN</td>\n",
       "      <td>NaN</td>\n",
       "      <td>NaN</td>\n",
       "      <td>NaN</td>\n",
       "      <td>TA</td>\n",
       "      <td>TA</td>\n",
       "      <td>TA</td>\n",
       "      <td>RFn</td>\n",
       "      <td>Attchd</td>\n",
       "      <td>TA</td>\n",
       "      <td>...</td>\n",
       "      <td>GLQ</td>\n",
       "      <td>BrkFace</td>\n",
       "      <td>RL</td>\n",
       "      <td>AllPub</td>\n",
       "      <td>Typ</td>\n",
       "      <td>VinylSd</td>\n",
       "      <td>VinylSd</td>\n",
       "      <td>WD</td>\n",
       "      <td>SBrkr</td>\n",
       "      <td>Gd</td>\n",
       "    </tr>\n",
       "    <tr>\n",
       "      <th>3</th>\n",
       "      <td>NaN</td>\n",
       "      <td>NaN</td>\n",
       "      <td>NaN</td>\n",
       "      <td>NaN</td>\n",
       "      <td>Gd</td>\n",
       "      <td>TA</td>\n",
       "      <td>TA</td>\n",
       "      <td>Unf</td>\n",
       "      <td>Detchd</td>\n",
       "      <td>Gd</td>\n",
       "      <td>...</td>\n",
       "      <td>ALQ</td>\n",
       "      <td>None</td>\n",
       "      <td>RL</td>\n",
       "      <td>AllPub</td>\n",
       "      <td>Typ</td>\n",
       "      <td>Wd Shng</td>\n",
       "      <td>Wd Sdng</td>\n",
       "      <td>WD</td>\n",
       "      <td>SBrkr</td>\n",
       "      <td>Gd</td>\n",
       "    </tr>\n",
       "    <tr>\n",
       "      <th>4</th>\n",
       "      <td>NaN</td>\n",
       "      <td>NaN</td>\n",
       "      <td>NaN</td>\n",
       "      <td>NaN</td>\n",
       "      <td>TA</td>\n",
       "      <td>TA</td>\n",
       "      <td>TA</td>\n",
       "      <td>RFn</td>\n",
       "      <td>Attchd</td>\n",
       "      <td>TA</td>\n",
       "      <td>...</td>\n",
       "      <td>GLQ</td>\n",
       "      <td>BrkFace</td>\n",
       "      <td>RL</td>\n",
       "      <td>AllPub</td>\n",
       "      <td>Typ</td>\n",
       "      <td>VinylSd</td>\n",
       "      <td>VinylSd</td>\n",
       "      <td>WD</td>\n",
       "      <td>SBrkr</td>\n",
       "      <td>Gd</td>\n",
       "    </tr>\n",
       "  </tbody>\n",
       "</table>\n",
       "<p>5 rows × 23 columns</p>\n",
       "</div>"
      ],
      "text/plain": [
       "  PoolQC MiscFeature Alley Fence FireplaceQu GarageCond GarageQual  \\\n",
       "0    NaN         NaN   NaN   NaN         NaN         TA         TA   \n",
       "1    NaN         NaN   NaN   NaN          TA         TA         TA   \n",
       "2    NaN         NaN   NaN   NaN          TA         TA         TA   \n",
       "3    NaN         NaN   NaN   NaN          Gd         TA         TA   \n",
       "4    NaN         NaN   NaN   NaN          TA         TA         TA   \n",
       "\n",
       "  GarageFinish GarageType BsmtCond     ...     BsmtFinType1 MasVnrType  \\\n",
       "0          RFn     Attchd       TA     ...              GLQ    BrkFace   \n",
       "1          RFn     Attchd       TA     ...              ALQ       None   \n",
       "2          RFn     Attchd       TA     ...              GLQ    BrkFace   \n",
       "3          Unf     Detchd       Gd     ...              ALQ       None   \n",
       "4          RFn     Attchd       TA     ...              GLQ    BrkFace   \n",
       "\n",
       "  MSZoning Utilities Functional Exterior2nd Exterior1st SaleType Electrical  \\\n",
       "0       RL    AllPub        Typ     VinylSd     VinylSd       WD      SBrkr   \n",
       "1       RL    AllPub        Typ     MetalSd     MetalSd       WD      SBrkr   \n",
       "2       RL    AllPub        Typ     VinylSd     VinylSd       WD      SBrkr   \n",
       "3       RL    AllPub        Typ     Wd Shng     Wd Sdng       WD      SBrkr   \n",
       "4       RL    AllPub        Typ     VinylSd     VinylSd       WD      SBrkr   \n",
       "\n",
       "  KitchenQual  \n",
       "0          Gd  \n",
       "1          TA  \n",
       "2          Gd  \n",
       "3          Gd  \n",
       "4          Gd  \n",
       "\n",
       "[5 rows x 23 columns]"
      ]
     },
     "execution_count": 13,
     "metadata": {},
     "output_type": "execute_result"
    }
   ],
   "source": [
    "features = data.isnull().sum().sort_values(ascending=False).keys()\n",
    "missing_values = pd.DataFrame(data[non_numeric_cols])\n",
    "missing_values.head()"
   ]
  },
  {
   "cell_type": "markdown",
   "metadata": {
    "_uuid": "ff98ee0384069ebeaab8915ed0cb20c5b232aa07"
   },
   "source": [
    "Okay, so most of these features are yes-no questions, for instance, to fill the missing values for the feature 'PoolQC' you have \n",
    "to ask yourself this question '**Does the following house have a pool?**'. Therefore, We're gonna fill the** missing values** with 'none'\n",
    "meaning that the following house doesn't have that feature. Fun! Let's none these values."
   ]
  },
  {
   "cell_type": "code",
   "execution_count": 14,
   "metadata": {
    "_uuid": "64f81df150790259d8ab63bc994b080163c49ce1",
    "collapsed": true
   },
   "outputs": [],
   "source": [
    "data.fillna('none', inplace=True)"
   ]
  },
  {
   "cell_type": "markdown",
   "metadata": {
    "_uuid": "e11048b59a53a2ded290f3d8a0b0fc52ff618417"
   },
   "source": [
    "That was super fast LOL. Let's check again to make sure we don't have missing values."
   ]
  },
  {
   "cell_type": "code",
   "execution_count": 15,
   "metadata": {
    "_uuid": "b584e00ba5c9b378ea17b042728b11472d28febe"
   },
   "outputs": [
    {
     "data": {
      "text/plain": [
       "SaleCondition    0\n",
       "Foundation       0\n",
       "RoofMatl         0\n",
       "Exterior1st      0\n",
       "Exterior2nd      0\n",
       "MasVnrType       0\n",
       "MasVnrArea       0\n",
       "ExterQual        0\n",
       "ExterCond        0\n",
       "BsmtQual         0\n",
       "YearRemodAdd     0\n",
       "BsmtCond         0\n",
       "BsmtExposure     0\n",
       "BsmtFinType1     0\n",
       "BsmtFinSF1       0\n",
       "BsmtFinType2     0\n",
       "BsmtFinSF2       0\n",
       "BsmtUnfSF        0\n",
       "RoofStyle        0\n",
       "YearBuilt        0\n",
       "Heating          0\n",
       "Utilities        0\n",
       "MSZoning         0\n",
       "LotFrontage      0\n",
       "LotArea          0\n",
       "Street           0\n",
       "Alley            0\n",
       "LotShape         0\n",
       "LandContour      0\n",
       "LotConfig        0\n",
       "                ..\n",
       "ScreenPorch      0\n",
       "GarageFinish     0\n",
       "PoolArea         0\n",
       "PoolQC           0\n",
       "Fence            0\n",
       "MiscFeature      0\n",
       "MiscVal          0\n",
       "MoSold           0\n",
       "YrSold           0\n",
       "GarageCars       0\n",
       "GarageYrBlt      0\n",
       "CentralAir       0\n",
       "FullBath         0\n",
       "Electrical       0\n",
       "1stFlrSF         0\n",
       "2ndFlrSF         0\n",
       "LowQualFinSF     0\n",
       "GrLivArea        0\n",
       "BsmtFullBath     0\n",
       "BsmtHalfBath     0\n",
       "HalfBath         0\n",
       "GarageType       0\n",
       "BedroomAbvGr     0\n",
       "KitchenAbvGr     0\n",
       "KitchenQual      0\n",
       "TotRmsAbvGrd     0\n",
       "Functional       0\n",
       "Fireplaces       0\n",
       "FireplaceQu      0\n",
       "MSSubClass       0\n",
       "Length: 79, dtype: int64"
      ]
     },
     "execution_count": 15,
     "metadata": {},
     "output_type": "execute_result"
    }
   ],
   "source": [
    "data.isnull().sum().sort_values(ascending=False)"
   ]
  },
  {
   "cell_type": "markdown",
   "metadata": {
    "_uuid": "d6e44fb871e3cbd5e216c0415d72b1bbcb71a6c2"
   },
   "source": [
    "Hip hip! we're are done. NO MISSING VALUES! Now, we take care of our categorical columns.\n",
    "\n",
    "Time to bring justice to the East and West of our data, and handle the skewed data with the** Log** power! "
   ]
  },
  {
   "cell_type": "code",
   "execution_count": 16,
   "metadata": {
    "_uuid": "421f3cb7061f4c3cbb7ff867b00394bd64052f13",
    "collapsed": true
   },
   "outputs": [],
   "source": [
    "#transforming our target labels(SalePrice).\n",
    "y = np.log1p(y)\n",
    "#transfomring the numeric features \n",
    "numeric_feats = data.dtypes[data.dtypes != \"object\"].index\n",
    "skewed_feats = X_train[numeric_feats].apply(lambda x: skew(x.dropna())) #compute skewness\n",
    "skewed_feats = skewed_feats[skewed_feats > 0.75]\n",
    "skewed_feats = skewed_feats.index\n",
    "data[skewed_feats] = np.log1p(data[skewed_feats])"
   ]
  },
  {
   "cell_type": "markdown",
   "metadata": {
    "_uuid": "986833e407a9ccaa308d1cebbe84ffbbc637bb7e"
   },
   "source": [
    "We're finally have our data ready for our models, but we need to **get_dummies** for our **categorical features** first because the models need numbers not categories.\n",
    "\n",
    "For Example, the feature 'PoolQC' is a categorical feature. it's filled with 4 values, (Ex, none,..etc)  when we get dummies for it. the following will happen:"
   ]
  },
  {
   "cell_type": "code",
   "execution_count": 17,
   "metadata": {
    "_uuid": "59628152acda5955e8fe2f8c4ec1d33cefe29162"
   },
   "outputs": [
    {
     "data": {
      "text/html": [
       "<div>\n",
       "<style>\n",
       "    .dataframe thead tr:only-child th {\n",
       "        text-align: right;\n",
       "    }\n",
       "\n",
       "    .dataframe thead th {\n",
       "        text-align: left;\n",
       "    }\n",
       "\n",
       "    .dataframe tbody tr th {\n",
       "        vertical-align: top;\n",
       "    }\n",
       "</style>\n",
       "<table border=\"1\" class=\"dataframe\">\n",
       "  <thead>\n",
       "    <tr style=\"text-align: right;\">\n",
       "      <th></th>\n",
       "      <th>Ex</th>\n",
       "      <th>Fa</th>\n",
       "      <th>Gd</th>\n",
       "      <th>none</th>\n",
       "    </tr>\n",
       "  </thead>\n",
       "  <tbody>\n",
       "    <tr>\n",
       "      <th>0</th>\n",
       "      <td>0</td>\n",
       "      <td>0</td>\n",
       "      <td>0</td>\n",
       "      <td>1</td>\n",
       "    </tr>\n",
       "    <tr>\n",
       "      <th>1</th>\n",
       "      <td>0</td>\n",
       "      <td>0</td>\n",
       "      <td>0</td>\n",
       "      <td>1</td>\n",
       "    </tr>\n",
       "    <tr>\n",
       "      <th>2</th>\n",
       "      <td>0</td>\n",
       "      <td>0</td>\n",
       "      <td>0</td>\n",
       "      <td>1</td>\n",
       "    </tr>\n",
       "    <tr>\n",
       "      <th>3</th>\n",
       "      <td>0</td>\n",
       "      <td>0</td>\n",
       "      <td>0</td>\n",
       "      <td>1</td>\n",
       "    </tr>\n",
       "    <tr>\n",
       "      <th>4</th>\n",
       "      <td>0</td>\n",
       "      <td>0</td>\n",
       "      <td>0</td>\n",
       "      <td>1</td>\n",
       "    </tr>\n",
       "  </tbody>\n",
       "</table>\n",
       "</div>"
      ],
      "text/plain": [
       "   Ex  Fa  Gd  none\n",
       "0   0   0   0     1\n",
       "1   0   0   0     1\n",
       "2   0   0   0     1\n",
       "3   0   0   0     1\n",
       "4   0   0   0     1"
      ]
     },
     "execution_count": 17,
     "metadata": {},
     "output_type": "execute_result"
    }
   ],
   "source": [
    "pd.get_dummies(data['PoolQC']).head()"
   ]
  },
  {
   "cell_type": "markdown",
   "metadata": {
    "_uuid": "fc336feec469f9e0998a45e4c8d78a29530695eb"
   },
   "source": [
    "As you see above, each category will be a column(feature) and will be 1 if the following instance has that feature and 0 if it has not.\n",
    "So, let's do this to all the data."
   ]
  },
  {
   "cell_type": "code",
   "execution_count": 18,
   "metadata": {
    "_uuid": "08ce946574d0bcebaac742bd022c4a2ebac1860b",
    "collapsed": true
   },
   "outputs": [],
   "source": [
    "data = pd.get_dummies(data)"
   ]
  },
  {
   "cell_type": "markdown",
   "metadata": {
    "_uuid": "52604d6ed552ec24979dd788460e2c56db8ee4de"
   },
   "source": [
    "**Models**"
   ]
  },
  {
   "cell_type": "markdown",
   "metadata": {
    "_uuid": "f29ee58e98a4710b69025c478007d77cf7e0c098"
   },
   "source": [
    "We've arrived safely to the second part. Congrats!\n",
    "\n",
    "Time to seprate out train and test set since we're done processing the data."
   ]
  },
  {
   "cell_type": "code",
   "execution_count": 19,
   "metadata": {
    "_uuid": "65e188b069ab2a98e8842a61e232698146b75dd5",
    "collapsed": true
   },
   "outputs": [],
   "source": [
    "X_train = data[:X_train_idx]\n",
    "X_test = data[X_train_idx:] "
   ]
  },
  {
   "cell_type": "markdown",
   "metadata": {
    "_uuid": "f9a167393f169f2032ed9a2029e9dd69840aa79f"
   },
   "source": [
    "Let's import here some needed libraries."
   ]
  },
  {
   "cell_type": "code",
   "execution_count": 20,
   "metadata": {
    "_uuid": "ed29c689731027b92a0a55aacfcaf2241d4c1484",
    "collapsed": true
   },
   "outputs": [],
   "source": [
    "from sklearn.linear_model import Lasso, ElasticNet, Ridge\n",
    "from sklearn.metrics import mean_squared_error\n",
    "from sklearn.model_selection import train_test_split\n",
    "from sklearn.preprocessing import PolynomialFeatures\n",
    "from sklearn.model_selection import cross_val_score\n",
    "from sklearn.preprocessing import StandardScaler"
   ]
  },
  {
   "cell_type": "markdown",
   "metadata": {
    "_uuid": "9b71e4891ec44870ba53151966bf1d3a20d93595"
   },
   "source": [
    "We're going to train a lasso model.** Lasso** is simply a regularized linear regression model. Lasso also selects\n",
    "the most important features, so it does the** feature selection** process for us. Then we will evaluate it using cross validation, and look at some learning curves as well."
   ]
  },
  {
   "cell_type": "code",
   "execution_count": 21,
   "metadata": {
    "_uuid": "0563448b828fc82018a2673d9e256babca52c5b9",
    "collapsed": true
   },
   "outputs": [],
   "source": [
    "#our cross function\n",
    "def display_scores(scores):\n",
    "    print(\"Score:{:.4f}\".format(scores.mean()))\n",
    "#learning curves function \n",
    "def plot_learning_curves(model, X, y):\n",
    "    X_train, X_val, y_train, y_val = train_test_split(X, y, test_size=0.2)\n",
    "    train_errors, val_errors = [], []\n",
    "    for m in range(1, len(X_train)):\n",
    "        model.fit(X_train[:m], y_train[:m])\n",
    "        y_train_predict = model.predict(X_train[:m])\n",
    "        y_val_predict = model.predict(X_val)\n",
    "        train_errors.append(mean_squared_error(y_train_predict, y_train[:m]))\n",
    "        val_errors.append(mean_squared_error(y_val_predict, y_val))\n",
    "        plt.plot(np.sqrt(train_errors), \"r-+\", linewidth=2, label=\"train\")\n",
    "        plt.plot(np.sqrt(val_errors), \"b-\", linewidth=3, label=\"val\")"
   ]
  },
  {
   "cell_type": "markdown",
   "metadata": {
    "_uuid": "486495075ec7ce888debf61d84b14e9d3629de8a"
   },
   "source": [
    "Let's train our **lasso model** and see how it will **score**."
   ]
  },
  {
   "cell_type": "code",
   "execution_count": 22,
   "metadata": {
    "_uuid": "2376de081d2966a552f4d0735126a1d7c1ffef40"
   },
   "outputs": [
    {
     "name": "stdout",
     "output_type": "stream",
     "text": [
      "Score:0.2650\n"
     ]
    }
   ],
   "source": [
    "lasso = Lasso(alpha=10).fit(X_train,y)\n",
    "scores = cross_val_score(lasso,X_train,y,scoring='neg_mean_squared_error',cv=5)\n",
    "rmse_scores = np.sqrt(-scores)\n",
    "display_scores(rmse_scores)"
   ]
  },
  {
   "cell_type": "markdown",
   "metadata": {
    "_uuid": "7c882020c5958e3ec9378e9b89b8f8d0aa8bc245"
   },
   "source": [
    "Well, not a bad score for the first attempt! Let's fine-tune the model and look at the **learning curve**."
   ]
  },
  {
   "cell_type": "code",
   "execution_count": 23,
   "metadata": {
    "_uuid": "f31181253f7ff328a8a43b0c778f5532b1789c96"
   },
   "outputs": [
    {
     "data": {
      "image/png": "[encoded data removed]",
      "text/plain": [
       "<matplotlib.figure.Figure at 0x2c02f4980b8>"
      ]
     },
     "metadata": {},
     "output_type": "display_data"
    }
   ],
   "source": [
    "plot_learning_curves(lasso,X_train,y)\n",
    "plt.show()"
   ]
  },
  {
   "cell_type": "markdown",
   "metadata": {
    "_uuid": "c077b31f3ed13e068843fbf2f09d43b6f756c853"
   },
   "source": [
    "This time we trained our model with a** big alpha**(learning rate), so in our learning curve you see that our model is not fitting\n",
    "the data well(the red line represents the train set, and it tells us whether our model is** overfitting or underfitting** the data).\n",
    "\n",
    "The red line starts with error 0, meaning that our model fits the data well when it starts with some instances, but when it's given more instances,  it underfits the data. \n",
    "\n",
    "The blue line shows how our model generalizes on the validation set, data it's never seen before. Also, in our curve we a big error on the validation set. So, our model performs poorly both on the training set and the validation set.\n",
    "\n",
    "This happed beacuse the alpha the we trained our lasso model with is big. Alpha is resposible for this '**how much you want to regularize your model?**', so the bigger alpha, the more you model will decrease the features'coefficients to zero, and the model will be have then less features that will make it a **high bias model** or just simple model, model cannot fit the data.****"
   ]
  },
  {
   "cell_type": "markdown",
   "metadata": {
    "_uuid": "813dbe0b8a98ded56635f3a6e44a94019408999d"
   },
   "source": [
    "Let's train our model with very** small alpha** and see what get."
   ]
  },
  {
   "cell_type": "code",
   "execution_count": 24,
   "metadata": {
    "_uuid": "7d57d792591842c63ed4a072260d1b9ed70b2d91"
   },
   "outputs": [
    {
     "name": "stdout",
     "output_type": "stream",
     "text": [
      "Score:0.1103\n"
     ]
    }
   ],
   "source": [
    "lasso = Lasso(alpha=.0005).fit(X_train,y)\n",
    "scores = cross_val_score(lasso,X_train,y,scoring='neg_mean_squared_error',cv=5)\n",
    "rmse_scores = np.sqrt(-scores)\n",
    "display_scores(rmse_scores)"
   ]
  },
  {
   "cell_type": "markdown",
   "metadata": {
    "_uuid": "21161723f0ae4ce7d00839ea8095c0a70a1b9d79"
   },
   "source": [
    "WOW! it improved! Let's look at the learning curve, hurry up! "
   ]
  },
  {
   "cell_type": "code",
   "execution_count": 25,
   "metadata": {
    "_uuid": "73a277a4ac2a9e6f044f6cb36aeb756f9f83d6a1"
   },
   "outputs": [
    {
     "data": {
      "image/png": "[encoded data removed]",
      "text/plain": [
       "<matplotlib.figure.Figure at 0x2c034154dd8>"
      ]
     },
     "metadata": {},
     "output_type": "display_data"
    }
   ],
   "source": [
    "plot_learning_curves(lasso,X_train,y)\n",
    "plt.show()"
   ]
  },
  {
   "cell_type": "markdown",
   "metadata": {
    "_uuid": "2eaae07b2843c11a36ea9a22ffae04aee47d5284"
   },
   "source": [
    "Okay, now our model fits and generalizes better. Still we have an error on both the training set and the validation set that can\n",
    "be improved **by feeding our model with more instances, features, or training a more complex model**. "
   ]
  },
  {
   "cell_type": "markdown",
   "metadata": {
    "_uuid": "a104b4687422400f49edb43ffee65661413f80b7"
   },
   "source": [
    "Now, lets predict the prices and save them into a file to be submitted."
   ]
  },
  {
   "cell_type": "code",
   "execution_count": 26,
   "metadata": {
    "_uuid": "7587454a044421b53ccde21c7a3311544a401532",
    "collapsed": true
   },
   "outputs": [],
   "source": [
    "preds = lasso.predict(X_test)\n",
    "prediction = pd.DataFrame(np.exp(preds), test_id, columns=['SalePrice']).to_csv('predictions.csv')"
   ]
  },
  {
   "cell_type": "markdown",
   "metadata": {
    "_uuid": "f31defc1894da22a906e02965f77fb970ff52120"
   },
   "source": [
    "The kernel is over! I had fun writing this kernel and learned a lot. I hope you did as well. \n",
    "\n",
    "If you want more if this, go check these kernels as well because they are really good and helped me a lot.\n",
    "\n",
    "*  [stacked-regressions-top-4-on-leaderboard](http://https://www.kaggle.com/serigne/stacked-regressions-top-4-on-leaderboard) \n",
    "* [comprehensive-data-exploration-with-python](http://https://www.kaggle.com/pmarcelino/comprehensive-data-exploration-with-python)\n",
    "\n",
    "Thank you! \n"
   ]
  }
 ],
 "metadata": {
  "kernelspec": {
   "display_name": "Python 3",
   "language": "python",
   "name": "python3"
  },
  "language_info": {
   "codemirror_mode": {
    "name": "ipython",
    "version": 3
   },
   "file_extension": ".py",
   "mimetype": "text/x-python",
   "name": "python",
   "nbconvert_exporter": "python",
   "pygments_lexer": "ipython3",
   "version": "3.6.3"
  }
 },
 "nbformat": 4,
 "nbformat_minor": 1
}
